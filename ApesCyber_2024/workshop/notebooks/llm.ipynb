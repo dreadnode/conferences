{
 "cells": [
  {
   "cell_type": "code",
   "execution_count": null,
   "metadata": {},
   "outputs": [],
   "source": [
    "!pip install openai numpy"
   ]
  },
  {
   "cell_type": "code",
   "execution_count": null,
   "metadata": {},
   "outputs": [],
   "source": [
    "import requests\n",
    "import openai\n",
    "import numpy as np\n",
    "import numpy.typing as npt\n",
    "\n",
    "BASE_URL = \"http://127.0.0.1:8000\"\n",
    "API_KEY = \"n/a\"\n",
    "MODEL = 'mistralai/Mistral-7B-Instruct-v0.2'"
   ]
  },
  {
   "cell_type": "code",
   "execution_count": null,
   "metadata": {},
   "outputs": [],
   "source": [
    "# Exercise 1\n",
    "#\n",
    "# Find the correct set of arguments which will ensure the model always\n",
    "# outputs 'Hello' regardless of temperature. Consider how the sampling\n",
    "# process occurs on the backend and what you can control.\n",
    "#\n",
    "# hint: Check the available options in vllm for our CompletionRequest model\n",
    "\n",
    "client = openai.OpenAI(api_key=API_KEY, base_url=f\"{BASE_URL}/v1\")\n",
    "\n",
    "completion = client.completions.create(\n",
    "    model=MODEL,\n",
    "    prompt=\"<s>[INST] Say hello! [/INST]\",\n",
    "    temperature=0, # Change this and see what happens!\n",
    "    max_tokens=1,\n",
    ")\n",
    "\n",
    "print(completion.choices[0].text)\n",
    "\n",
    "# Extra credit: Can you get the log probability of the token \"Hi\"?"
   ]
  },
  {
   "cell_type": "code",
   "execution_count": null,
   "metadata": {},
   "outputs": [],
   "source": [
    "# Exercise 2\n",
    "#\n",
    "# Author a function which will return the top-k log probabilities for a given\n",
    "# prompt using the openai completions endpoint. This should be dict with the\n",
    "# keys being the token string and the values being the log probability\n",
    "#\n",
    "# hint: Check out the logprobs option and the return structure\n",
    "\n",
    "def topk(prompt: str) -> dict[str, float]:\n",
    "    # Your code here\n",
    "    return {}\n",
    "\n",
    "probs = topk(\"<s>[INST] Say hello! [/INST]\")\n",
    "print(probs)\n",
    "\n",
    "assert isinstance(probs, dict) and 'Hello' in probs, \"Uh oh!\""
   ]
  },
  {
   "cell_type": "code",
   "execution_count": null,
   "metadata": {},
   "outputs": [],
   "source": [
    "# Exercise 4\n",
    "#\n",
    "# Extend/rewrite your topk function to take an optional logit_bias argument.\n",
    "# Use this new function to force the model to reply \"No\" when we ask it to\n",
    "# say \"Hello\".\n",
    "#\n",
    "# hint: Check out the logit_bias_logits_processor in vllm\n",
    "# hint: Check out the tokenizer.json for the Mistral model \n",
    "\n",
    "def topk_with_bias(\n",
    "    prompt: str, logit_bias: dict[int, float] | None = None\n",
    ") -> dict[str, float]:\n",
    "    # Complete this code\n",
    "    return {}\n",
    "\n",
    "prompt = \"<s>[INST] Say hello! [/INST]\"\n",
    "probs = topk_with_bias(prompt, {1510: 100})\n",
    "print(probs)\n",
    "\n",
    "assert next(iter(probs.keys())).lower() == \"no\", \"Uh oh!\""
   ]
  },
  {
   "cell_type": "code",
   "execution_count": null,
   "metadata": {},
   "outputs": [],
   "source": [
    "# Exercise 4\n",
    "#\n",
    "# As we bring things together, we're going to be getting the true logprob for our\n",
    "# 'no' token and ensure that it roughly matches the output from the server if we\n",
    "# could get all the logprobs as opposed to just the top 5.\n",
    "#\n",
    "# References:\n",
    "# - https://github.com/justinchiu/openlogprobs\n",
    "# - https://mattf1n.github.io/openlogprobs.html\n",
    "#\n",
    "\n",
    "prompt = \"<s>[INST] Say hello! [/INST]\"\n",
    "target_token_id = 1510\n",
    "target_token = \"no\"\n",
    "bias = 5.0\n",
    "\n",
    "original = topk_with_bias(prompt)\n",
    "\n",
    "modified = topk_with_bias(prompt, {target_token_id: bias})\n",
    "while target_token not in modified:\n",
    "    bias += 5\n",
    "    modified = topk_with_bias(prompt, {target_token_id: bias})\n",
    "\n",
    "top_logprob = max(original.values())\n",
    "biased_other_logprobs = np.array(\n",
    "    [lp for t, lp in modified.items() if t != target_token]\n",
    ")\n",
    "biased_target_logprob = np.array(\n",
    "    [lp for t, lp in modified.items() if t == target_token]\n",
    ")\n",
    "real_target_logprob = (\n",
    "    biased_target_logprob - biased_other_logprobs + top_logprob - bias\n",
    ")[0]\n",
    "\n",
    "print(real_target_logprob)\n",
    "\n",
    "assert round(real_target_logprob, 1) == -27.6"
   ]
  }
 ],
 "metadata": {
  "kernelspec": {
   "display_name": "Python 3",
   "language": "python",
   "name": "python3"
  },
  "language_info": {
   "codemirror_mode": {
    "name": "ipython",
    "version": 3
   },
   "file_extension": ".py",
   "mimetype": "text/x-python",
   "name": "python",
   "nbconvert_exporter": "python",
   "pygments_lexer": "ipython3",
   "version": "3.10.12"
  }
 },
 "nbformat": 4,
 "nbformat_minor": 2
}
